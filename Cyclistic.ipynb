{
 "cells": [
  {
   "cell_type": "code",
   "execution_count": 2,
   "id": "b4b12dc8",
   "metadata": {},
   "outputs": [],
   "source": [
    "# Cyclistic bike-share analysis case study"
   ]
  },
  {
   "cell_type": "code",
   "execution_count": 1,
   "id": "3c6c532b",
   "metadata": {},
   "outputs": [],
   "source": [
    "import pandas as pd \n",
    "import numpy as np \n",
    "import matplotlib.pyplot as plt \n",
    "import seaborn as sns\n",
    "import datetime"
   ]
  },
  {
   "cell_type": "code",
   "execution_count": 3,
   "id": "89cc54ca",
   "metadata": {},
   "outputs": [],
   "source": [
    "jan = pd.read_csv (r\"F:\\Study\\Google data analysis\\Case study Bicycle\\Data\\202101-divvy-tripdata.csv\")\n",
    "feb = pd.read_csv (r\"F:\\Study\\Google data analysis\\Case study Bicycle\\Data\\202102-divvy-tripdata.csv\")\n",
    "mar = pd.read_csv (r\"F:\\Study\\Google data analysis\\Case study Bicycle\\Data\\202103-divvy-tripdata.csv\")\n",
    "apr = pd.read_csv (r\"F:\\Study\\Google data analysis\\Case study Bicycle\\Data\\202104-divvy-tripdata.csv\")\n",
    "may = pd.read_csv (r\"F:\\Study\\Google data analysis\\Case study Bicycle\\Data\\202105-divvy-tripdata.csv\")\n",
    "jun = pd.read_csv (r\"F:\\Study\\Google data analysis\\Case study Bicycle\\Data\\202106-divvy-tripdata.csv\")\n",
    "jul = pd.read_csv (r\"F:\\Study\\Google data analysis\\Case study Bicycle\\Data\\202107-divvy-tripdata.csv\")\n",
    "aug = pd.read_csv (r\"F:\\Study\\Google data analysis\\Case study Bicycle\\Data\\202108-divvy-tripdata.csv\")\n",
    "sep = pd.read_csv (r\"F:\\Study\\Google data analysis\\Case study Bicycle\\Data\\202109-divvy-tripdata.csv\")\n",
    "oct = pd.read_csv (r\"F:\\Study\\Google data analysis\\Case study Bicycle\\Data\\202110-divvy-tripdata.csv\")\n",
    "nov = pd.read_csv (r\"F:\\Study\\Google data analysis\\Case study Bicycle\\Data\\202111-divvy-tripdata.csv\")\n",
    "dec = pd.read_csv (r\"F:\\Study\\Google data analysis\\Case study Bicycle\\Data\\202112-divvy-tripdata.csv\")"
   ]
  },
  {
   "cell_type": "code",
   "execution_count": 4,
   "id": "8fcadfba",
   "metadata": {},
   "outputs": [],
   "source": [
    "# Merge data frames into one\n",
    "data_frames = [jan,feb,mar,apr,may,jun,jul,aug,sep,oct,nov,dec]"
   ]
  },
  {
   "cell_type": "code",
   "execution_count": 5,
   "id": "1dca58c3",
   "metadata": {},
   "outputs": [],
   "source": [
    "data_df = pd.concat(data_frames)"
   ]
  },
  {
   "cell_type": "code",
   "execution_count": 6,
   "id": "9e7535bd",
   "metadata": {},
   "outputs": [
    {
     "data": {
      "text/html": [
       "<div>\n",
       "<style scoped>\n",
       "    .dataframe tbody tr th:only-of-type {\n",
       "        vertical-align: middle;\n",
       "    }\n",
       "\n",
       "    .dataframe tbody tr th {\n",
       "        vertical-align: top;\n",
       "    }\n",
       "\n",
       "    .dataframe thead th {\n",
       "        text-align: right;\n",
       "    }\n",
       "</style>\n",
       "<table border=\"1\" class=\"dataframe\">\n",
       "  <thead>\n",
       "    <tr style=\"text-align: right;\">\n",
       "      <th></th>\n",
       "      <th>ride_id</th>\n",
       "      <th>rideable_type</th>\n",
       "      <th>started_at</th>\n",
       "      <th>ended_at</th>\n",
       "      <th>start_station_name</th>\n",
       "      <th>start_station_id</th>\n",
       "      <th>end_station_name</th>\n",
       "      <th>end_station_id</th>\n",
       "      <th>start_lat</th>\n",
       "      <th>start_lng</th>\n",
       "      <th>end_lat</th>\n",
       "      <th>end_lng</th>\n",
       "      <th>member_casual</th>\n",
       "    </tr>\n",
       "  </thead>\n",
       "  <tbody>\n",
       "    <tr>\n",
       "      <th>0</th>\n",
       "      <td>E19E6F1B8D4C42ED</td>\n",
       "      <td>electric_bike</td>\n",
       "      <td>2021-01-23 16:14:19</td>\n",
       "      <td>2021-01-23 16:24:44</td>\n",
       "      <td>California Ave &amp; Cortez St</td>\n",
       "      <td>17660</td>\n",
       "      <td>NaN</td>\n",
       "      <td>NaN</td>\n",
       "      <td>41.900341</td>\n",
       "      <td>-87.696743</td>\n",
       "      <td>41.89</td>\n",
       "      <td>-87.72</td>\n",
       "      <td>member</td>\n",
       "    </tr>\n",
       "    <tr>\n",
       "      <th>1</th>\n",
       "      <td>DC88F20C2C55F27F</td>\n",
       "      <td>electric_bike</td>\n",
       "      <td>2021-01-27 18:43:08</td>\n",
       "      <td>2021-01-27 18:47:12</td>\n",
       "      <td>California Ave &amp; Cortez St</td>\n",
       "      <td>17660</td>\n",
       "      <td>NaN</td>\n",
       "      <td>NaN</td>\n",
       "      <td>41.900333</td>\n",
       "      <td>-87.696707</td>\n",
       "      <td>41.90</td>\n",
       "      <td>-87.69</td>\n",
       "      <td>member</td>\n",
       "    </tr>\n",
       "    <tr>\n",
       "      <th>2</th>\n",
       "      <td>EC45C94683FE3F27</td>\n",
       "      <td>electric_bike</td>\n",
       "      <td>2021-01-21 22:35:54</td>\n",
       "      <td>2021-01-21 22:37:14</td>\n",
       "      <td>California Ave &amp; Cortez St</td>\n",
       "      <td>17660</td>\n",
       "      <td>NaN</td>\n",
       "      <td>NaN</td>\n",
       "      <td>41.900313</td>\n",
       "      <td>-87.696643</td>\n",
       "      <td>41.90</td>\n",
       "      <td>-87.70</td>\n",
       "      <td>member</td>\n",
       "    </tr>\n",
       "    <tr>\n",
       "      <th>3</th>\n",
       "      <td>4FA453A75AE377DB</td>\n",
       "      <td>electric_bike</td>\n",
       "      <td>2021-01-07 13:31:13</td>\n",
       "      <td>2021-01-07 13:42:55</td>\n",
       "      <td>California Ave &amp; Cortez St</td>\n",
       "      <td>17660</td>\n",
       "      <td>NaN</td>\n",
       "      <td>NaN</td>\n",
       "      <td>41.900399</td>\n",
       "      <td>-87.696662</td>\n",
       "      <td>41.92</td>\n",
       "      <td>-87.69</td>\n",
       "      <td>member</td>\n",
       "    </tr>\n",
       "    <tr>\n",
       "      <th>4</th>\n",
       "      <td>BE5E8EB4E7263A0B</td>\n",
       "      <td>electric_bike</td>\n",
       "      <td>2021-01-23 02:24:02</td>\n",
       "      <td>2021-01-23 02:24:45</td>\n",
       "      <td>California Ave &amp; Cortez St</td>\n",
       "      <td>17660</td>\n",
       "      <td>NaN</td>\n",
       "      <td>NaN</td>\n",
       "      <td>41.900326</td>\n",
       "      <td>-87.696697</td>\n",
       "      <td>41.90</td>\n",
       "      <td>-87.70</td>\n",
       "      <td>casual</td>\n",
       "    </tr>\n",
       "  </tbody>\n",
       "</table>\n",
       "</div>"
      ],
      "text/plain": [
       "            ride_id  rideable_type           started_at             ended_at  \\\n",
       "0  E19E6F1B8D4C42ED  electric_bike  2021-01-23 16:14:19  2021-01-23 16:24:44   \n",
       "1  DC88F20C2C55F27F  electric_bike  2021-01-27 18:43:08  2021-01-27 18:47:12   \n",
       "2  EC45C94683FE3F27  electric_bike  2021-01-21 22:35:54  2021-01-21 22:37:14   \n",
       "3  4FA453A75AE377DB  electric_bike  2021-01-07 13:31:13  2021-01-07 13:42:55   \n",
       "4  BE5E8EB4E7263A0B  electric_bike  2021-01-23 02:24:02  2021-01-23 02:24:45   \n",
       "\n",
       "           start_station_name start_station_id end_station_name  \\\n",
       "0  California Ave & Cortez St            17660              NaN   \n",
       "1  California Ave & Cortez St            17660              NaN   \n",
       "2  California Ave & Cortez St            17660              NaN   \n",
       "3  California Ave & Cortez St            17660              NaN   \n",
       "4  California Ave & Cortez St            17660              NaN   \n",
       "\n",
       "  end_station_id  start_lat  start_lng  end_lat  end_lng member_casual  \n",
       "0            NaN  41.900341 -87.696743    41.89   -87.72        member  \n",
       "1            NaN  41.900333 -87.696707    41.90   -87.69        member  \n",
       "2            NaN  41.900313 -87.696643    41.90   -87.70        member  \n",
       "3            NaN  41.900399 -87.696662    41.92   -87.69        member  \n",
       "4            NaN  41.900326 -87.696697    41.90   -87.70        casual  "
      ]
     },
     "execution_count": 6,
     "metadata": {},
     "output_type": "execute_result"
    }
   ],
   "source": [
    "data_df.head()"
   ]
  },
  {
   "cell_type": "code",
   "execution_count": 7,
   "id": "8c9791d3",
   "metadata": {},
   "outputs": [
    {
     "data": {
      "text/plain": [
       "ride_id                object\n",
       "rideable_type          object\n",
       "started_at             object\n",
       "ended_at               object\n",
       "start_station_name     object\n",
       "start_station_id       object\n",
       "end_station_name       object\n",
       "end_station_id         object\n",
       "start_lat             float64\n",
       "start_lng             float64\n",
       "end_lat               float64\n",
       "end_lng               float64\n",
       "member_casual          object\n",
       "dtype: object"
      ]
     },
     "execution_count": 7,
     "metadata": {},
     "output_type": "execute_result"
    }
   ],
   "source": [
    "# Find the data types\n",
    "data_df.dtypes"
   ]
  },
  {
   "cell_type": "code",
   "execution_count": 8,
   "id": "acdc9374",
   "metadata": {},
   "outputs": [],
   "source": [
    "#Find the ride length by subtracting started_at from ended_at time\n",
    "data_df[\"started_at\"] = pd.to_datetime(data_df[\"started_at\"])\n",
    "data_df[\"ended_at\"] = pd.to_datetime(data_df[\"ended_at\"])"
   ]
  },
  {
   "cell_type": "code",
   "execution_count": 9,
   "id": "84d35751",
   "metadata": {},
   "outputs": [
    {
     "data": {
      "text/plain": [
       "ride_id                       object\n",
       "rideable_type                 object\n",
       "started_at            datetime64[ns]\n",
       "ended_at              datetime64[ns]\n",
       "start_station_name            object\n",
       "start_station_id              object\n",
       "end_station_name              object\n",
       "end_station_id                object\n",
       "start_lat                    float64\n",
       "start_lng                    float64\n",
       "end_lat                      float64\n",
       "end_lng                      float64\n",
       "member_casual                 object\n",
       "dtype: object"
      ]
     },
     "execution_count": 9,
     "metadata": {},
     "output_type": "execute_result"
    }
   ],
   "source": [
    "data_df.dtypes"
   ]
  },
  {
   "cell_type": "code",
   "execution_count": 10,
   "id": "dfe2c20e",
   "metadata": {},
   "outputs": [],
   "source": [
    "data_df[\"ride_length\"] = data_df[\"ended_at\"]- data_df[\"started_at\"]"
   ]
  },
  {
   "cell_type": "code",
   "execution_count": 11,
   "id": "571633f8",
   "metadata": {},
   "outputs": [
    {
     "data": {
      "text/plain": [
       "0   0 days 00:10:25\n",
       "1   0 days 00:04:04\n",
       "2   0 days 00:01:20\n",
       "3   0 days 00:11:42\n",
       "4   0 days 00:00:43\n",
       "Name: ride_length, dtype: timedelta64[ns]"
      ]
     },
     "execution_count": 11,
     "metadata": {},
     "output_type": "execute_result"
    }
   ],
   "source": [
    "data_df[\"ride_length\"].head()"
   ]
  },
  {
   "cell_type": "code",
   "execution_count": 12,
   "id": "4464f6b9",
   "metadata": {},
   "outputs": [],
   "source": [
    "data_df[[\"start_date\",\"start_time\"]] = data_df['started_at'].astype(str).str.split(' ',1,expand=True)"
   ]
  },
  {
   "cell_type": "code",
   "execution_count": 14,
   "id": "ea8cf865",
   "metadata": {},
   "outputs": [],
   "source": [
    "data_df[\"start_time\"] = pd.to_datetime(data_df[\"start_time\"])\n",
    "data_df[\"start_date\"] = pd.to_datetime(data_df[\"start_date\"])"
   ]
  },
  {
   "cell_type": "code",
   "execution_count": 15,
   "id": "f426c3c1",
   "metadata": {},
   "outputs": [],
   "source": [
    "data_df[\"week day\"]=data_df[\"start_date\"].apply(lambda x:x.weekday())"
   ]
  },
  {
   "cell_type": "code",
   "execution_count": 16,
   "id": "b5f5e810",
   "metadata": {},
   "outputs": [
    {
     "data": {
      "text/plain": [
       "array([5, 2, 3, 0, 6, 4, 1], dtype=int64)"
      ]
     },
     "execution_count": 16,
     "metadata": {},
     "output_type": "execute_result"
    }
   ],
   "source": [
    "data_df[\"week day\"].unique()"
   ]
  },
  {
   "cell_type": "code",
   "execution_count": 17,
   "id": "1f970f09",
   "metadata": {},
   "outputs": [],
   "source": [
    "#We can also generate weekdays name column based on week day data. We will first create a dictionary"
   ]
  },
  {
   "cell_type": "code",
   "execution_count": 18,
   "id": "6825be9f",
   "metadata": {},
   "outputs": [],
   "source": [
    "day_dict={0:\"Sunday\", 1:\"Monday\",2:\"Tuesday\",3:\"Wednesday\",4:\"Thursday\",5:\"Friday\",6:\"saturday\"}"
   ]
  },
  {
   "cell_type": "code",
   "execution_count": 19,
   "id": "c453d7fa",
   "metadata": {},
   "outputs": [],
   "source": [
    "data_df[\"weekday_name\"]= data_df['week day'].apply(lambda y:day_dict[y])"
   ]
  },
  {
   "cell_type": "code",
   "execution_count": 20,
   "id": "df99e29c",
   "metadata": {},
   "outputs": [],
   "source": [
    "# we will also extract the year and month information into new columns from the start_date column"
   ]
  },
  {
   "cell_type": "code",
   "execution_count": 21,
   "id": "6c3b3971",
   "metadata": {},
   "outputs": [
    {
     "data": {
      "text/html": [
       "<div>\n",
       "<style scoped>\n",
       "    .dataframe tbody tr th:only-of-type {\n",
       "        vertical-align: middle;\n",
       "    }\n",
       "\n",
       "    .dataframe tbody tr th {\n",
       "        vertical-align: top;\n",
       "    }\n",
       "\n",
       "    .dataframe thead th {\n",
       "        text-align: right;\n",
       "    }\n",
       "</style>\n",
       "<table border=\"1\" class=\"dataframe\">\n",
       "  <thead>\n",
       "    <tr style=\"text-align: right;\">\n",
       "      <th></th>\n",
       "      <th>ride_id</th>\n",
       "      <th>rideable_type</th>\n",
       "      <th>started_at</th>\n",
       "      <th>ended_at</th>\n",
       "      <th>start_station_name</th>\n",
       "      <th>start_station_id</th>\n",
       "      <th>end_station_name</th>\n",
       "      <th>end_station_id</th>\n",
       "      <th>start_lat</th>\n",
       "      <th>start_lng</th>\n",
       "      <th>end_lat</th>\n",
       "      <th>end_lng</th>\n",
       "      <th>member_casual</th>\n",
       "      <th>ride_length</th>\n",
       "      <th>start_date</th>\n",
       "      <th>start_time</th>\n",
       "      <th>week day</th>\n",
       "      <th>weekday_name</th>\n",
       "      <th>year</th>\n",
       "      <th>month</th>\n",
       "    </tr>\n",
       "  </thead>\n",
       "  <tbody>\n",
       "    <tr>\n",
       "      <th>0</th>\n",
       "      <td>E19E6F1B8D4C42ED</td>\n",
       "      <td>electric_bike</td>\n",
       "      <td>2021-01-23 16:14:19</td>\n",
       "      <td>2021-01-23 16:24:44</td>\n",
       "      <td>California Ave &amp; Cortez St</td>\n",
       "      <td>17660</td>\n",
       "      <td>NaN</td>\n",
       "      <td>NaN</td>\n",
       "      <td>41.900341</td>\n",
       "      <td>-87.696743</td>\n",
       "      <td>41.89</td>\n",
       "      <td>-87.72</td>\n",
       "      <td>member</td>\n",
       "      <td>0 days 00:10:25</td>\n",
       "      <td>2021-01-23</td>\n",
       "      <td>2022-07-05 16:14:19</td>\n",
       "      <td>5</td>\n",
       "      <td>Friday</td>\n",
       "      <td>2021</td>\n",
       "      <td>1</td>\n",
       "    </tr>\n",
       "    <tr>\n",
       "      <th>1</th>\n",
       "      <td>DC88F20C2C55F27F</td>\n",
       "      <td>electric_bike</td>\n",
       "      <td>2021-01-27 18:43:08</td>\n",
       "      <td>2021-01-27 18:47:12</td>\n",
       "      <td>California Ave &amp; Cortez St</td>\n",
       "      <td>17660</td>\n",
       "      <td>NaN</td>\n",
       "      <td>NaN</td>\n",
       "      <td>41.900333</td>\n",
       "      <td>-87.696707</td>\n",
       "      <td>41.90</td>\n",
       "      <td>-87.69</td>\n",
       "      <td>member</td>\n",
       "      <td>0 days 00:04:04</td>\n",
       "      <td>2021-01-27</td>\n",
       "      <td>2022-07-05 18:43:08</td>\n",
       "      <td>2</td>\n",
       "      <td>Tuesday</td>\n",
       "      <td>2021</td>\n",
       "      <td>1</td>\n",
       "    </tr>\n",
       "    <tr>\n",
       "      <th>2</th>\n",
       "      <td>EC45C94683FE3F27</td>\n",
       "      <td>electric_bike</td>\n",
       "      <td>2021-01-21 22:35:54</td>\n",
       "      <td>2021-01-21 22:37:14</td>\n",
       "      <td>California Ave &amp; Cortez St</td>\n",
       "      <td>17660</td>\n",
       "      <td>NaN</td>\n",
       "      <td>NaN</td>\n",
       "      <td>41.900313</td>\n",
       "      <td>-87.696643</td>\n",
       "      <td>41.90</td>\n",
       "      <td>-87.70</td>\n",
       "      <td>member</td>\n",
       "      <td>0 days 00:01:20</td>\n",
       "      <td>2021-01-21</td>\n",
       "      <td>2022-07-05 22:35:54</td>\n",
       "      <td>3</td>\n",
       "      <td>Wednesday</td>\n",
       "      <td>2021</td>\n",
       "      <td>1</td>\n",
       "    </tr>\n",
       "    <tr>\n",
       "      <th>3</th>\n",
       "      <td>4FA453A75AE377DB</td>\n",
       "      <td>electric_bike</td>\n",
       "      <td>2021-01-07 13:31:13</td>\n",
       "      <td>2021-01-07 13:42:55</td>\n",
       "      <td>California Ave &amp; Cortez St</td>\n",
       "      <td>17660</td>\n",
       "      <td>NaN</td>\n",
       "      <td>NaN</td>\n",
       "      <td>41.900399</td>\n",
       "      <td>-87.696662</td>\n",
       "      <td>41.92</td>\n",
       "      <td>-87.69</td>\n",
       "      <td>member</td>\n",
       "      <td>0 days 00:11:42</td>\n",
       "      <td>2021-01-07</td>\n",
       "      <td>2022-07-05 13:31:13</td>\n",
       "      <td>3</td>\n",
       "      <td>Wednesday</td>\n",
       "      <td>2021</td>\n",
       "      <td>1</td>\n",
       "    </tr>\n",
       "    <tr>\n",
       "      <th>4</th>\n",
       "      <td>BE5E8EB4E7263A0B</td>\n",
       "      <td>electric_bike</td>\n",
       "      <td>2021-01-23 02:24:02</td>\n",
       "      <td>2021-01-23 02:24:45</td>\n",
       "      <td>California Ave &amp; Cortez St</td>\n",
       "      <td>17660</td>\n",
       "      <td>NaN</td>\n",
       "      <td>NaN</td>\n",
       "      <td>41.900326</td>\n",
       "      <td>-87.696697</td>\n",
       "      <td>41.90</td>\n",
       "      <td>-87.70</td>\n",
       "      <td>casual</td>\n",
       "      <td>0 days 00:00:43</td>\n",
       "      <td>2021-01-23</td>\n",
       "      <td>2022-07-05 02:24:02</td>\n",
       "      <td>5</td>\n",
       "      <td>Friday</td>\n",
       "      <td>2021</td>\n",
       "      <td>1</td>\n",
       "    </tr>\n",
       "  </tbody>\n",
       "</table>\n",
       "</div>"
      ],
      "text/plain": [
       "            ride_id  rideable_type          started_at            ended_at  \\\n",
       "0  E19E6F1B8D4C42ED  electric_bike 2021-01-23 16:14:19 2021-01-23 16:24:44   \n",
       "1  DC88F20C2C55F27F  electric_bike 2021-01-27 18:43:08 2021-01-27 18:47:12   \n",
       "2  EC45C94683FE3F27  electric_bike 2021-01-21 22:35:54 2021-01-21 22:37:14   \n",
       "3  4FA453A75AE377DB  electric_bike 2021-01-07 13:31:13 2021-01-07 13:42:55   \n",
       "4  BE5E8EB4E7263A0B  electric_bike 2021-01-23 02:24:02 2021-01-23 02:24:45   \n",
       "\n",
       "           start_station_name start_station_id end_station_name  \\\n",
       "0  California Ave & Cortez St            17660              NaN   \n",
       "1  California Ave & Cortez St            17660              NaN   \n",
       "2  California Ave & Cortez St            17660              NaN   \n",
       "3  California Ave & Cortez St            17660              NaN   \n",
       "4  California Ave & Cortez St            17660              NaN   \n",
       "\n",
       "  end_station_id  start_lat  start_lng  end_lat  end_lng member_casual  \\\n",
       "0            NaN  41.900341 -87.696743    41.89   -87.72        member   \n",
       "1            NaN  41.900333 -87.696707    41.90   -87.69        member   \n",
       "2            NaN  41.900313 -87.696643    41.90   -87.70        member   \n",
       "3            NaN  41.900399 -87.696662    41.92   -87.69        member   \n",
       "4            NaN  41.900326 -87.696697    41.90   -87.70        casual   \n",
       "\n",
       "      ride_length start_date          start_time  week day weekday_name  year  \\\n",
       "0 0 days 00:10:25 2021-01-23 2022-07-05 16:14:19         5       Friday  2021   \n",
       "1 0 days 00:04:04 2021-01-27 2022-07-05 18:43:08         2      Tuesday  2021   \n",
       "2 0 days 00:01:20 2021-01-21 2022-07-05 22:35:54         3    Wednesday  2021   \n",
       "3 0 days 00:11:42 2021-01-07 2022-07-05 13:31:13         3    Wednesday  2021   \n",
       "4 0 days 00:00:43 2021-01-23 2022-07-05 02:24:02         5       Friday  2021   \n",
       "\n",
       "   month  \n",
       "0      1  \n",
       "1      1  \n",
       "2      1  \n",
       "3      1  \n",
       "4      1  "
      ]
     },
     "execution_count": 21,
     "metadata": {},
     "output_type": "execute_result"
    }
   ],
   "source": [
    "data_df['year'] = pd.DatetimeIndex(data_df['start_date']).year\n",
    "data_df['month']= pd.DatetimeIndex(data_df['start_date']).month\n",
    "data_df.head()"
   ]
  },
  {
   "cell_type": "code",
   "execution_count": 22,
   "id": "06f61c72",
   "metadata": {},
   "outputs": [],
   "source": [
    "data_df.sort_values(by=['start_date'],inplace= True, ascending=True )"
   ]
  },
  {
   "cell_type": "code",
   "execution_count": 23,
   "id": "2c586885",
   "metadata": {},
   "outputs": [
    {
     "data": {
      "text/plain": [
       "ride_id                    0\n",
       "rideable_type              0\n",
       "started_at                 0\n",
       "ended_at                   0\n",
       "start_station_name    690809\n",
       "start_station_id      690806\n",
       "end_station_name      739170\n",
       "end_station_id        739170\n",
       "start_lat                  0\n",
       "start_lng                  0\n",
       "end_lat                 4771\n",
       "end_lng                 4771\n",
       "member_casual              0\n",
       "ride_length                0\n",
       "start_date                 0\n",
       "start_time                 0\n",
       "week day                   0\n",
       "weekday_name               0\n",
       "year                       0\n",
       "month                      0\n",
       "dtype: int64"
      ]
     },
     "execution_count": 23,
     "metadata": {},
     "output_type": "execute_result"
    }
   ],
   "source": [
    "data_df.isnull().sum()"
   ]
  },
  {
   "cell_type": "code",
   "execution_count": 24,
   "id": "2e179158",
   "metadata": {},
   "outputs": [
    {
     "data": {
      "text/plain": [
       "False"
      ]
     },
     "execution_count": 24,
     "metadata": {},
     "output_type": "execute_result"
    }
   ],
   "source": [
    "data_df.duplicated().any()"
   ]
  },
  {
   "cell_type": "code",
   "execution_count": 26,
   "id": "dc7c3b70",
   "metadata": {},
   "outputs": [],
   "source": [
    "#Data Analysis "
   ]
  },
  {
   "cell_type": "code",
   "execution_count": 27,
   "id": "d6536b81",
   "metadata": {},
   "outputs": [],
   "source": [
    "#mean ride length of both groups of users such as member and casual"
   ]
  },
  {
   "cell_type": "code",
   "execution_count": null,
   "id": "f5746e4c",
   "metadata": {},
   "outputs": [],
   "source": [
    "# Mean ride for members"
   ]
  },
  {
   "cell_type": "code",
   "execution_count": 28,
   "id": "fa389e22",
   "metadata": {},
   "outputs": [
    {
     "data": {
      "text/plain": [
       "Timedelta('0 days 00:13:37.970452287')"
      ]
     },
     "execution_count": 28,
     "metadata": {},
     "output_type": "execute_result"
    }
   ],
   "source": [
    "data_member = data_df[data_df[\"member_casual\"]==\"member\"]\n",
    "data_member_ride_len_mean = data_member[\"ride_length\"].mean()\n",
    "data_member_ride_len_mean"
   ]
  },
  {
   "cell_type": "code",
   "execution_count": 29,
   "id": "4c5c1fab",
   "metadata": {},
   "outputs": [],
   "source": [
    "# Mean ride for Casual members"
   ]
  },
  {
   "cell_type": "code",
   "execution_count": 30,
   "id": "16c3b76e",
   "metadata": {},
   "outputs": [
    {
     "data": {
      "text/plain": [
       "Timedelta('0 days 00:32:00.056830650')"
      ]
     },
     "execution_count": 30,
     "metadata": {},
     "output_type": "execute_result"
    }
   ],
   "source": [
    "data_casual = data_df[data_df[\"member_casual\"]==\"casual\"]\n",
    "data_casual_ride_len_mean = data_casual[\"ride_length\"].mean()\n",
    "data_casual_ride_len_mean"
   ]
  },
  {
   "cell_type": "code",
   "execution_count": 31,
   "id": "db1d1ba0",
   "metadata": {},
   "outputs": [],
   "source": [
    "#It is evident that casual members have high mean ride time than Members"
   ]
  },
  {
   "cell_type": "code",
   "execution_count": 32,
   "id": "959ccd62",
   "metadata": {},
   "outputs": [],
   "source": [
    "# Maximum ride time for both categories:"
   ]
  },
  {
   "cell_type": "code",
   "execution_count": null,
   "id": "9552900e",
   "metadata": {},
   "outputs": [],
   "source": [
    "# Max member ride time"
   ]
  },
  {
   "cell_type": "code",
   "execution_count": 33,
   "id": "16516223",
   "metadata": {},
   "outputs": [
    {
     "data": {
      "text/plain": [
       "Timedelta('1 days 01:59:56')"
      ]
     },
     "execution_count": 33,
     "metadata": {},
     "output_type": "execute_result"
    }
   ],
   "source": [
    "data_member_ride_len_max = data_member[\"ride_length\"].max()\n",
    "data_member_ride_len_max"
   ]
  },
  {
   "cell_type": "code",
   "execution_count": 34,
   "id": "50658f0a",
   "metadata": {},
   "outputs": [],
   "source": [
    "# Max casual ride time"
   ]
  },
  {
   "cell_type": "code",
   "execution_count": 35,
   "id": "f9dd53cd",
   "metadata": {},
   "outputs": [
    {
     "data": {
      "text/plain": [
       "Timedelta('38 days 20:24:09')"
      ]
     },
     "execution_count": 35,
     "metadata": {},
     "output_type": "execute_result"
    }
   ],
   "source": [
    "data_casual_ride_len_max = data_casual[\"ride_length\"].max()\n",
    "data_casual_ride_len_max"
   ]
  },
  {
   "cell_type": "code",
   "execution_count": 36,
   "id": "34af3739",
   "metadata": {},
   "outputs": [],
   "source": [
    "# Mode values"
   ]
  },
  {
   "cell_type": "code",
   "execution_count": 37,
   "id": "2535157b",
   "metadata": {},
   "outputs": [
    {
     "data": {
      "text/plain": [
       "0    2\n",
       "Name: week day, dtype: int64"
      ]
     },
     "execution_count": 37,
     "metadata": {},
     "output_type": "execute_result"
    }
   ],
   "source": [
    "# calculate the mode of week day for memember which means to see what day do they usually ride on\n",
    "data_member_ride_day_mode = data_member[\"week day\"].mode()\n",
    "data_member_ride_day_mode\n",
    "# 2 is Tuesday"
   ]
  },
  {
   "cell_type": "code",
   "execution_count": 38,
   "id": "2c42c00e",
   "metadata": {},
   "outputs": [
    {
     "data": {
      "text/plain": [
       "0    5\n",
       "Name: week day, dtype: int64"
      ]
     },
     "execution_count": 38,
     "metadata": {},
     "output_type": "execute_result"
    }
   ],
   "source": [
    "data_member_ride_day_mode = data_casual[\"week day\"].mode()\n",
    "data_member_ride_day_mode\n",
    "# 5 is friday"
   ]
  },
  {
   "cell_type": "code",
   "execution_count": 39,
   "id": "0d6f4623",
   "metadata": {},
   "outputs": [],
   "source": [
    "#details of number of rides per day for each user"
   ]
  },
  {
   "cell_type": "code",
   "execution_count": 41,
   "id": "5e24831d",
   "metadata": {},
   "outputs": [
    {
     "data": {
      "text/plain": [
       "week day\n",
       "0    416212\n",
       "1    465513\n",
       "2    477192\n",
       "3    451524\n",
       "4    446428\n",
       "5    433047\n",
       "6    376142\n",
       "Name: ride_id, dtype: int64"
      ]
     },
     "execution_count": 41,
     "metadata": {},
     "output_type": "execute_result"
    }
   ],
   "source": [
    "mem_rides_pday= data_df[data_df[\"member_casual\"]==\"member\"].groupby('week day')['ride_id'].count()\n",
    "mem_rides_pday\n",
    "#Members"
   ]
  },
  {
   "cell_type": "code",
   "execution_count": 42,
   "id": "7f657cf0",
   "metadata": {},
   "outputs": [
    {
     "data": {
      "text/plain": [
       "week day\n",
       "0    286376\n",
       "1    274392\n",
       "2    278950\n",
       "3    286064\n",
       "4    364080\n",
       "5    558000\n",
       "6    481143\n",
       "Name: ride_id, dtype: int64"
      ]
     },
     "execution_count": 42,
     "metadata": {},
     "output_type": "execute_result"
    }
   ],
   "source": [
    "cas_rides_pday = data_df[data_df[\"member_casual\"]==\"casual\"].groupby('week day')['ride_id'].count()\n",
    "cas_rides_pday\n",
    "#casual"
   ]
  },
  {
   "cell_type": "code",
   "execution_count": 44,
   "id": "8b7a8537",
   "metadata": {},
   "outputs": [
    {
     "data": {
      "text/plain": [
       "member    3066058\n",
       "casual    2529005\n",
       "Name: member_casual, dtype: int64"
      ]
     },
     "execution_count": 44,
     "metadata": {},
     "output_type": "execute_result"
    }
   ],
   "source": [
    "member_type =data_df[\"member_casual\"].value_counts()\n",
    "member_type"
   ]
  },
  {
   "cell_type": "code",
   "execution_count": 45,
   "id": "ebec948a",
   "metadata": {},
   "outputs": [],
   "source": [
    "#lets plot the above information through a bar chart"
   ]
  },
  {
   "cell_type": "code",
   "execution_count": 48,
   "id": "992dece5",
   "metadata": {},
   "outputs": [
    {
     "data": {
      "image/png": "[encoded data removed]",
      "text/plain": [
       "<Figure size 432x288 with 1 Axes>"
      ]
     },
     "metadata": {
      "needs_background": "light"
     },
     "output_type": "display_data"
    }
   ],
   "source": [
    "plt.title(\"Number of users- Member and Causal\")\n",
    "plt.bar(member_type.index, member_type.values)\n",
    "plt.ticklabel_format(style='plain', axis='y')"
   ]
  },
  {
   "cell_type": "code",
   "execution_count": 49,
   "id": "c34e612d",
   "metadata": {},
   "outputs": [
    {
     "data": {
      "image/png": "[encoded data removed]",
      "text/plain": [
       "<Figure size 576x432 with 1 Axes>"
      ]
     },
     "metadata": {},
     "output_type": "display_data"
    }
   ],
   "source": [
    "# pie chart  to see the percentage\n",
    "plt.figure(figsize=(8,6))\n",
    "plt.pie(member_type.values, labels =member_type.index,autopct='%1.1f%%')\n",
    "plt.title(\"Percentage of each user type\")\n",
    "plt.legend(member_type.index)\n",
    "plt.show()"
   ]
  },
  {
   "cell_type": "code",
   "execution_count": 51,
   "id": "be695cdc",
   "metadata": {},
   "outputs": [],
   "source": [
    "#We would do some more analysis to see if there is trends in number of rides per month ."
   ]
  },
  {
   "cell_type": "code",
   "execution_count": 52,
   "id": "e35c921d",
   "metadata": {},
   "outputs": [
    {
     "data": {
      "text/plain": [
       "month  member_casual\n",
       "1      member            78717\n",
       "       casual            18117\n",
       "2      member            39491\n",
       "       casual            10131\n",
       "3      member           144463\n",
       "       casual            84033\n",
       "4      member           200629\n",
       "       casual           136601\n",
       "5      member           274717\n",
       "       casual           256916\n",
       "6      casual           370681\n",
       "       member           358914\n",
       "7      casual           442056\n",
       "       member           380354\n",
       "8      casual           412671\n",
       "       member           391681\n",
       "9      member           392257\n",
       "       casual           363890\n",
       "10     member           373984\n",
       "       casual           257242\n",
       "11     member           253049\n",
       "       casual           106929\n",
       "12     member           177802\n",
       "       casual            69738\n",
       "Name: member_casual, dtype: int64"
      ]
     },
     "execution_count": 52,
     "metadata": {},
     "output_type": "execute_result"
    }
   ],
   "source": [
    "#To check monthly trends in the users\n",
    "monthly_users = data_df.groupby(\"month\") ['member_casual'].value_counts()\n",
    "monthly_users"
   ]
  },
  {
   "cell_type": "code",
   "execution_count": 53,
   "id": "f041c3a4",
   "metadata": {},
   "outputs": [],
   "source": [
    "#plotting the above information by using seaborn library"
   ]
  },
  {
   "cell_type": "code",
   "execution_count": 54,
   "id": "232b0b07",
   "metadata": {},
   "outputs": [
    {
     "data": {
      "text/plain": [
       "<AxesSubplot:xlabel='member_casual', ylabel='count'>"
      ]
     },
     "execution_count": 54,
     "metadata": {},
     "output_type": "execute_result"
    },
    {
     "data": {
      "image/png": "[encoded data removed]",
      "text/plain": [
       "<Figure size 576x432 with 1 Axes>"
      ]
     },
     "metadata": {
      "needs_background": "light"
     },
     "output_type": "display_data"
    }
   ],
   "source": [
    "plt.figure(figsize=(8,6))\n",
    "sns.countplot(x=\"member_casual\",hue=\"month\", data=data_df)"
   ]
  },
  {
   "cell_type": "code",
   "execution_count": 55,
   "id": "bc44a7b2",
   "metadata": {},
   "outputs": [],
   "source": [
    "#From the above plot it can be seen that the number of rides increase in the summer months (June-August) for both members \n",
    "# and casual users. One of the reason seems Vacations and good weather.\n",
    "\n",
    "#lets take a look the types of bikes used by the member users and casual members"
   ]
  },
  {
   "cell_type": "code",
   "execution_count": 56,
   "id": "862d6b2c",
   "metadata": {},
   "outputs": [
    {
     "data": {
      "image/png": "[encoded data removed]",
      "text/plain": [
       "<Figure size 576x432 with 1 Axes>"
      ]
     },
     "metadata": {
      "needs_background": "light"
     },
     "output_type": "display_data"
    }
   ],
   "source": [
    "plt.figure(figsize=(8,6))\n",
    "sns.countplot(x=\"member_casual\", hue=\"rideable_type\", data=data_df)\n",
    "plt.ticklabel_format(style='plain', axis='y') # for removing #scientific notation"
   ]
  },
  {
   "cell_type": "code",
   "execution_count": 57,
   "id": "ebfaa3c1",
   "metadata": {},
   "outputs": [],
   "source": [
    "#Recommendations"
   ]
  },
  {
   "cell_type": "markdown",
   "id": "9d7c9389",
   "metadata": {},
   "source": [
    "We see that the Number of casual members are quite high, the company can give them some incentive to become loyal costumers through becoming annual member."
   ]
  },
  {
   "cell_type": "markdown",
   "id": "0cb64735",
   "metadata": {},
   "source": [
    "1. The incentive could be that the company could lower the charges for the rides for member customers than a casual users. This would encourage to casual users to become regular members.\n",
    "2. The bike company can also give bonus points for each ride to the member user. Bonus points can be accumulated to secure free rides. Hopefully this would aim to see an increase in number of rides and also member subscriptions.\n",
    "3. We also see that casual users are more active on weekends so we lower weekend rates for member users to encourage them to use rides on weekend too and this will also encourage causal riders to become member subscribers.\n",
    "4. Discounts can also be given e.g. may be after every 5 miles or 5% to 10% after 10 minutes of ride.\n",
    "5. We see that the casual members also use Docker bikes so may be we can provide some discounts on riding docker bikes for member users. so that it would encourage the causal users to buy annual subscriptions.\n",
    "6. Through advertisements discounts can be offered during the months June-August to attract casual to buy memberships."
   ]
  },
  {
   "cell_type": "markdown",
   "id": "43a10f67",
   "metadata": {},
   "source": [
    "Reference: https://towardsdev.com/my-capstone-project-for-google-data-analytics-professional-certificate-eda-bike-share-using-d83b8ffe2334"
   ]
  },
  {
   "cell_type": "code",
   "execution_count": null,
   "id": "7893c52e",
   "metadata": {},
   "outputs": [],
   "source": []
  }
 ],
 "metadata": {
  "kernelspec": {
   "display_name": "Python 3 (ipykernel)",
   "language": "python",
   "name": "python3"
  },
  "language_info": {
   "codemirror_mode": {
    "name": "ipython",
    "version": 3
   },
   "file_extension": ".py",
   "mimetype": "text/x-python",
   "name": "python",
   "nbconvert_exporter": "python",
   "pygments_lexer": "ipython3",
   "version": "3.9.12"
  }
 },
 "nbformat": 4,
 "nbformat_minor": 5
}
